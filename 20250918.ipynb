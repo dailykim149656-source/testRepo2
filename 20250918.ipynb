{
 "cells": [
  {
   "cell_type": "markdown",
   "id": "8b999a00",
   "metadata": {},
   "source": [
    "##2025-09-18"
   ]
  },
  {
   "cell_type": "code",
   "execution_count": null,
   "id": "06d6ce56",
   "metadata": {},
   "outputs": [],
   "source": [
    "print(\"hello world\")"
   ]
  }
 ],
 "metadata": {
  "language_info": {
   "name": "python"
  }
 },
 "nbformat": 4,
 "nbformat_minor": 5
}
